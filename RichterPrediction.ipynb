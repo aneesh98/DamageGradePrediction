{
  "nbformat": 4,
  "nbformat_minor": 0,
  "metadata": {
    "colab": {
      "name": "RichterPrediction.ipynb",
      "provenance": [],
      "collapsed_sections": [],
      "machine_shape": "hm",
      "include_colab_link": true
    },
    "kernelspec": {
      "name": "python3",
      "display_name": "Python 3"
    },
    "accelerator": "GPU"
  },
  "cells": [
    {
      "cell_type": "markdown",
      "metadata": {
        "id": "view-in-github",
        "colab_type": "text"
      },
      "source": [
        "<a href=\"https://colab.research.google.com/github/aneesh98/DamageGradePrediction/blob/master/RichterPrediction.ipynb\" target=\"_parent\"><img src=\"https://colab.research.google.com/assets/colab-badge.svg\" alt=\"Open In Colab\"/></a>"
      ]
    },
    {
      "cell_type": "code",
      "metadata": {
        "id": "xW4DxsrDdLAM",
        "colab_type": "code",
        "colab": {}
      },
      "source": [
        "import pandas as pd\n",
        "import numpy as np \n",
        "import scipy\n",
        "import tensorflow as tf\n",
        "from sklearn.model_selection import train_test_split\n",
        "import matplotlib.pyplot as plt\n",
        "import seaborn as sns\n",
        "from sklearn.preprocessing import LabelEncoder, power_transform, StandardScaler\n",
        "from sklearn.feature_selection import SelectKBest\n",
        "from sklearn.feature_selection import chi2, f_classif\n",
        "from sklearn.feature_selection import VarianceThreshold\n",
        "from sklearn.model_selection import train_test_split\n",
        "from sklearn.linear_model import LogisticRegression, LogisticRegressionCV\n",
        "from sklearn.ensemble import RandomForestClassifier, AdaBoostClassifier\n",
        "from sklearn.metrics import accuracy_score, f1_score\n",
        "from xgboost import XGBClassifier"
      ],
      "execution_count": 0,
      "outputs": []
    },
    {
      "cell_type": "code",
      "metadata": {
        "id": "1APuj67JeJFc",
        "colab_type": "code",
        "colab": {
          "base_uri": "https://localhost:8080/",
          "height": 905
        },
        "outputId": "a0c5e29a-23a3-4284-c5aa-58926b0fae4d"
      },
      "source": [
        "df = pd.read_csv('https://s3.amazonaws.com/drivendata/data/57/public/train_values.csv')\n",
        "labels = pd.read_csv('https://s3.amazonaws.com/drivendata/data/57/public/train_labels.csv')\n",
        "print(df.head())\n",
        "print(df.columns.values)\n",
        "print(labels.head())\n",
        "# df.drop(columns = ['building_id', 'geo_level_1_id, geo_level_2_id, geo_level_3_id'], axis = 1, inplace = True)\n",
        "df = pd.concat([df.iloc[:,1:], labels.iloc[:,1]], axis = 1)\n",
        "df.columns.values"
      ],
      "execution_count": 30,
      "outputs": [
        {
          "output_type": "stream",
          "text": [
            "   building_id  ...  has_secondary_use_other\n",
            "0       802906  ...                        0\n",
            "1        28830  ...                        0\n",
            "2        94947  ...                        0\n",
            "3       590882  ...                        0\n",
            "4       201944  ...                        0\n",
            "\n",
            "[5 rows x 39 columns]\n",
            "['building_id' 'geo_level_1_id' 'geo_level_2_id' 'geo_level_3_id'\n",
            " 'count_floors_pre_eq' 'age' 'area_percentage' 'height_percentage'\n",
            " 'land_surface_condition' 'foundation_type' 'roof_type'\n",
            " 'ground_floor_type' 'other_floor_type' 'position' 'plan_configuration'\n",
            " 'has_superstructure_adobe_mud' 'has_superstructure_mud_mortar_stone'\n",
            " 'has_superstructure_stone_flag' 'has_superstructure_cement_mortar_stone'\n",
            " 'has_superstructure_mud_mortar_brick'\n",
            " 'has_superstructure_cement_mortar_brick' 'has_superstructure_timber'\n",
            " 'has_superstructure_bamboo' 'has_superstructure_rc_non_engineered'\n",
            " 'has_superstructure_rc_engineered' 'has_superstructure_other'\n",
            " 'legal_ownership_status' 'count_families' 'has_secondary_use'\n",
            " 'has_secondary_use_agriculture' 'has_secondary_use_hotel'\n",
            " 'has_secondary_use_rental' 'has_secondary_use_institution'\n",
            " 'has_secondary_use_school' 'has_secondary_use_industry'\n",
            " 'has_secondary_use_health_post' 'has_secondary_use_gov_office'\n",
            " 'has_secondary_use_use_police' 'has_secondary_use_other']\n",
            "   building_id  damage_grade\n",
            "0       802906             3\n",
            "1        28830             2\n",
            "2        94947             3\n",
            "3       590882             2\n",
            "4       201944             3\n"
          ],
          "name": "stdout"
        },
        {
          "output_type": "execute_result",
          "data": {
            "text/plain": [
              "array(['geo_level_1_id', 'geo_level_2_id', 'geo_level_3_id',\n",
              "       'count_floors_pre_eq', 'age', 'area_percentage',\n",
              "       'height_percentage', 'land_surface_condition', 'foundation_type',\n",
              "       'roof_type', 'ground_floor_type', 'other_floor_type', 'position',\n",
              "       'plan_configuration', 'has_superstructure_adobe_mud',\n",
              "       'has_superstructure_mud_mortar_stone',\n",
              "       'has_superstructure_stone_flag',\n",
              "       'has_superstructure_cement_mortar_stone',\n",
              "       'has_superstructure_mud_mortar_brick',\n",
              "       'has_superstructure_cement_mortar_brick',\n",
              "       'has_superstructure_timber', 'has_superstructure_bamboo',\n",
              "       'has_superstructure_rc_non_engineered',\n",
              "       'has_superstructure_rc_engineered', 'has_superstructure_other',\n",
              "       'legal_ownership_status', 'count_families', 'has_secondary_use',\n",
              "       'has_secondary_use_agriculture', 'has_secondary_use_hotel',\n",
              "       'has_secondary_use_rental', 'has_secondary_use_institution',\n",
              "       'has_secondary_use_school', 'has_secondary_use_industry',\n",
              "       'has_secondary_use_health_post', 'has_secondary_use_gov_office',\n",
              "       'has_secondary_use_use_police', 'has_secondary_use_other',\n",
              "       'damage_grade'], dtype=object)"
            ]
          },
          "metadata": {
            "tags": []
          },
          "execution_count": 30
        }
      ]
    },
    {
      "cell_type": "code",
      "metadata": {
        "id": "hV19LezbkTii",
        "colab_type": "code",
        "colab": {}
      },
      "source": [
        ""
      ],
      "execution_count": 0,
      "outputs": []
    },
    {
      "cell_type": "code",
      "metadata": {
        "id": "NpxB9J5ahE7d",
        "colab_type": "code",
        "colab": {}
      },
      "source": [
        "def getCrossTab(feature_name, label, dataframe):\n",
        "  data_ct = pd.crosstab(dataframe[feature_name], dataframe[label], margins = False)\n",
        "  return data_ct\n",
        "\n",
        "def drawBoxPlot(feature, label, df_, subplots = False, nrows = 0, ncolumns = 0, single = False):\n",
        "  if not subplots:\n",
        "    sns.boxplot(x=label, y = feature, data = df_)\n",
        "  else:\n",
        "    fig, ax = plt.subplots(nrows, ncolumns, figsize = (15,15))\n",
        "    fig.subplots_adjust(hspace = 0.8, wspace = 0.8)\n",
        "    d = 0\n",
        "    for row in range(nrows):\n",
        "      for col in range(ncolumns):\n",
        "        if single:\n",
        "          ax[row, col].boxplot(df_[feature[d]])\n",
        "          ax[row, col].set_xlabel(feature[d])\n",
        "        else:\n",
        "          sns.boxplot(x=label, y=feature[d], data=df_, ax = ax[row, col])\n",
        "        d += 1\n",
        "        if d >= len(feature):\n",
        "          return\n",
        "\n",
        "def drawHist(feature, df_, subplots = False, nrows = 0, ncolumns = 0):\n",
        "  if not subplots:\n",
        "    plt.hist(df_[feature])\n",
        "  else:\n",
        "    fig, ax = plt.subplots(nrows, ncolumns, figsize = (15,15))\n",
        "    fig.subplots_adjust(hspace = 0.8, wspace = 0.8)\n",
        "    d = 0\n",
        "    for row in range(nrows):\n",
        "      for col in range(ncolumns):\n",
        "        ax[row, col].hist(df_[feature[d]])\n",
        "        ax[row, col].set_xlabel(feature[d])\n",
        "        d += 1\n",
        "        if d >= len(feature):\n",
        "          return\n",
        "\n",
        "def convert_to_categorical(data):\n",
        "  q1, q3 = np.percentile(data, [25, 75])\n",
        "  categorized = np.digitize(data, bins = [q1, q3])\n",
        "  return categorized\n"
      ],
      "execution_count": 0,
      "outputs": []
    },
    {
      "cell_type": "code",
      "metadata": {
        "id": "z5D91tQ8kgnL",
        "colab_type": "code",
        "colab": {}
      },
      "source": [
        ""
      ],
      "execution_count": 0,
      "outputs": []
    },
    {
      "cell_type": "code",
      "metadata": {
        "id": "KBjxCMfPfCi1",
        "colab_type": "code",
        "outputId": "0ea30de2-ad8c-426c-d6aa-4b4282b52d90",
        "colab": {
          "base_uri": "https://localhost:8080/",
          "height": 953
        }
      },
      "source": [
        "print(labels['damage_grade'].value_counts())\n",
        "numerical_features = np.array(['geo_level_3_id',\n",
        "'count_floors_pre_eq', 'age', 'area_percentage', 'height_percentage', 'count_families'\n",
        "])\n",
        "categorical_features = [i for i in df.columns.values if i not in numerical_features]\n",
        "drawBoxPlot(feature = numerical_features, label = 'damage_grade', df_ = df,  subplots = True, nrows = 3, ncolumns = 2, single = True)"
      ],
      "execution_count": 32,
      "outputs": [
        {
          "output_type": "stream",
          "text": [
            "2    148259\n",
            "3     87218\n",
            "1     25124\n",
            "Name: damage_grade, dtype: int64\n"
          ],
          "name": "stdout"
        },
        {
          "output_type": "display_data",
          "data": {
            "image/png": "[encoded data removed]",
            "text/plain": [
              "<Figure size 1080x1080 with 6 Axes>"
            ]
          },
          "metadata": {
            "tags": []
          }
        }
      ]
    },
    {
      "cell_type": "markdown",
      "metadata": {
        "id": "BaAXWVDs-uLw",
        "colab_type": "text"
      },
      "source": [
        "**FROM Above Box plots it is very clear that the dataset suffers from high amount of outliers.** These Can be removed by enforcing a distribution on the data."
      ]
    },
    {
      "cell_type": "code",
      "metadata": {
        "id": "m0u3c2-mCHN0",
        "colab_type": "code",
        "colab": {
          "base_uri": "https://localhost:8080/",
          "height": 781
        },
        "outputId": "066f5481-2f1d-47d8-b3b3-cc1557423c94"
      },
      "source": [
        "df['age'].value_counts()"
      ],
      "execution_count": 33,
      "outputs": [
        {
          "output_type": "execute_result",
          "data": {
            "text/plain": [
              "10     38896\n",
              "15     36010\n",
              "5      33697\n",
              "20     32182\n",
              "0      26041\n",
              "25     24366\n",
              "30     18028\n",
              "35     10710\n",
              "40     10559\n",
              "50      7257\n",
              "45      4711\n",
              "60      3612\n",
              "80      3055\n",
              "55      2033\n",
              "70      1975\n",
              "995     1390\n",
              "100     1364\n",
              "65      1123\n",
              "90      1085\n",
              "85       847\n",
              "75       512\n",
              "95       414\n",
              "120      180\n",
              "150      142\n",
              "200      106\n",
              "110      100\n",
              "105       89\n",
              "125       37\n",
              "115       21\n",
              "140        9\n",
              "130        9\n",
              "180        7\n",
              "160        6\n",
              "170        6\n",
              "175        5\n",
              "135        5\n",
              "145        3\n",
              "190        3\n",
              "195        2\n",
              "165        2\n",
              "155        1\n",
              "185        1\n",
              "Name: age, dtype: int64"
            ]
          },
          "metadata": {
            "tags": []
          },
          "execution_count": 33
        }
      ]
    },
    {
      "cell_type": "code",
      "metadata": {
        "id": "ORkmpx-4Y2i2",
        "colab_type": "code",
        "colab": {
          "base_uri": "https://localhost:8080/",
          "height": 834
        },
        "outputId": "661a8890-54ce-44a9-c48d-164c115d0482"
      },
      "source": [
        "sns.distplot(df['geo_level_1_id'])\n",
        "plt.figure()\n",
        "sns.distplot(df['geo_level_2_id'])\n",
        "plt.figure()\n",
        "sns.distplot(df['geo_level_3_id'])"
      ],
      "execution_count": 34,
      "outputs": [
        {
          "output_type": "execute_result",
          "data": {
            "text/plain": [
              "<matplotlib.axes._subplots.AxesSubplot at 0x7ff64f64b668>"
            ]
          },
          "metadata": {
            "tags": []
          },
          "execution_count": 34
        },
        {
          "output_type": "display_data",
          "data": {
            "image/png": "[encoded data removed]",
            "text/plain": [
              "<Figure size 432x288 with 1 Axes>"
            ]
          },
          "metadata": {
            "tags": []
          }
        },
        {
          "output_type": "display_data",
          "data": {
            "image/png": "[encoded data removed]",
            "text/plain": [
              "<Figure size 432x288 with 1 Axes>"
            ]
          },
          "metadata": {
            "tags": []
          }
        },
        {
          "output_type": "display_data",
          "data": {
            "image/png": "[encoded data removed]",
            "text/plain": [
              "<Figure size 432x288 with 1 Axes>"
            ]
          },
          "metadata": {
            "tags": []
          }
        }
      ]
    },
    {
      "cell_type": "code",
      "metadata": {
        "id": "gae0SL-uaABN",
        "colab_type": "code",
        "colab": {}
      },
      "source": [
        "df['geo_level_1_id'] = pd.cut(df['geo_level_1_id'], 21)"
      ],
      "execution_count": 0,
      "outputs": []
    },
    {
      "cell_type": "code",
      "metadata": {
        "id": "9UjM6CakbQlh",
        "colab_type": "code",
        "colab": {}
      },
      "source": [
        "df['geo_level_2_id'] = pd.cut(df['geo_level_2_id'], 23)"
      ],
      "execution_count": 0,
      "outputs": []
    },
    {
      "cell_type": "code",
      "metadata": {
        "id": "jKVwxc0WFa75",
        "colab_type": "code",
        "colab": {
          "base_uri": "https://localhost:8080/",
          "height": 34
        },
        "outputId": "73d77797-d002-466e-f6cd-89916f6dae0a"
      },
      "source": [
        "labeled_features = ['geo_level_1_id','geo_level_2_id','land_surface_condition', 'foundation_type',\n",
        "                    'roof_type', 'ground_floor_type', 'other_floor_type',\n",
        "                    'position', 'plan_configuration', 'legal_ownership_status',\n",
        "                    ]\n",
        "binary_features = np.array([i for i in categorical_features if i not in labeled_features])\n",
        "print(len(labeled_features))"
      ],
      "execution_count": 37,
      "outputs": [
        {
          "output_type": "stream",
          "text": [
            "10\n"
          ],
          "name": "stdout"
        }
      ]
    },
    {
      "cell_type": "code",
      "metadata": {
        "id": "cxTUlOJ5olUI",
        "colab_type": "code",
        "colab": {
          "base_uri": "https://localhost:8080/",
          "height": 887
        },
        "outputId": "2e726b36-f76b-4870-d498-02941513b53c"
      },
      "source": [
        "for feature in labeled_features[3:]:\n",
        "  ct = getCrossTab(feature, 'damage_grade', df)\n",
        "  print(ct)"
      ],
      "execution_count": 38,
      "outputs": [
        {
          "output_type": "stream",
          "text": [
            "damage_grade         1       2      3\n",
            "foundation_type                      \n",
            "h                  358     579    511\n",
            "i                 6004    4354    221\n",
            "r                10720  125515  82961\n",
            "u                 3689    8541   2030\n",
            "w                 4353    9270   1495\n",
            "damage_grade      1       2      3\n",
            "roof_type                         \n",
            "n             13547  106447  62848\n",
            "q              3926   34009  23641\n",
            "x              7651    7803    729\n",
            "damage_grade           1       2      3\n",
            "ground_floor_type                      \n",
            "f                  12474  119877  77268\n",
            "m                     90     343     75\n",
            "v                  10309   12971   1313\n",
            "x                   2052   14536   8289\n",
            "z                    199     532    273\n",
            "damage_grade         1      2      3\n",
            "other_floor_type                    \n",
            "j                 8886  20362  10595\n",
            "q                 7387  98320  59575\n",
            "s                 5423   5904    701\n",
            "x                 3428  23673  16347\n",
            "damage_grade      1       2      3\n",
            "position                          \n",
            "j              1675    7899   3708\n",
            "o               120    1609    604\n",
            "s             19867  116051  66172\n",
            "t              3462   22700  16734\n",
            "damage_grade            1       2      3\n",
            "plan_configuration                      \n",
            "a                      66     157     29\n",
            "c                      86     206     33\n",
            "d                   23310  142523  84239\n",
            "f                       0      16      6\n",
            "m                       8      34      4\n",
            "n                       6      20     12\n",
            "o                      40      96     23\n",
            "q                     781    2585   2326\n",
            "s                      53     223     70\n",
            "u                     774    2399    476\n",
            "damage_grade                1       2      3\n",
            "legal_ownership_status                      \n",
            "a                        1511    3074    927\n",
            "r                         213     727    533\n",
            "v                       23270  143154  84515\n",
            "w                         130    1304   1243\n"
          ],
          "name": "stdout"
        }
      ]
    },
    {
      "cell_type": "code",
      "metadata": {
        "id": "8yhOZu7yKgsu",
        "colab_type": "code",
        "colab": {
          "base_uri": "https://localhost:8080/",
          "height": 34
        },
        "outputId": "faf2b1b8-e81b-42f8-eb34-822e8308f361"
      },
      "source": [
        "## THRESHOLDING BINARY VARIABLES ##\n",
        "thresholder = VarianceThreshold(0.75*(1 - .75))\n",
        "threshold = thresholder.fit(df[binary_features[:-1]]).variances_\n",
        "binary_indices = list(np.argsort(threshold)[::-1])\n",
        "print(binary_indices[0])\n",
        "best_binary_features = (binary_features[binary_indices])"
      ],
      "execution_count": 39,
      "outputs": [
        {
          "output_type": "stream",
          "text": [
            "6\n"
          ],
          "name": "stdout"
        }
      ]
    },
    {
      "cell_type": "code",
      "metadata": {
        "id": "oO2u7Wo8-o8j",
        "colab_type": "code",
        "colab": {}
      },
      "source": [
        "## Transforming Categorical Features ##\n",
        "le = {}\n",
        "labeled_features = np.array(labeled_features)\n",
        "for feature in labeled_features:\n",
        "  le[feature] = LabelEncoder()\n",
        "  df.loc[:, feature] = le[feature].fit_transform(df.loc[:, feature])\n",
        "## SELECTING BEST CATEGORICAL FEATURES USING CHI SQUARE TEST ##\n",
        "chi2_selector = SelectKBest(chi2, k = 6)\n",
        "features_kbest = np.argsort(chi2_selector.fit(df[labeled_features], df['damage_grade']).scores_)[:6]\n",
        "best_labeled_features = labeled_features[features_kbest]"
      ],
      "execution_count": 0,
      "outputs": []
    },
    {
      "cell_type": "code",
      "metadata": {
        "id": "oOlQZqapDOCX",
        "colab_type": "code",
        "colab": {
          "base_uri": "https://localhost:8080/",
          "height": 301
        },
        "outputId": "2d8c9dc1-d427-487f-94a7-00a53c95fc16"
      },
      "source": [
        "# REMOVING OUTLIERS ##\n",
        "selected_features = np.concatenate([best_binary_features, best_labeled_features, numerical_features])\n",
        "print(selected_features)\n",
        "for feature in numerical_features:\n",
        "  df.loc[:, feature]= power_transform(df.loc[:, feature].values.reshape(-1,1), method = 'yeo-johnson')"
      ],
      "execution_count": 41,
      "outputs": [
        {
          "output_type": "stream",
          "text": [
            "['has_superstructure_timber' 'has_superstructure_mud_mortar_stone'\n",
            " 'has_secondary_use' 'has_superstructure_adobe_mud'\n",
            " 'has_superstructure_bamboo' 'has_superstructure_cement_mortar_brick'\n",
            " 'has_superstructure_mud_mortar_brick' 'has_secondary_use_agriculture'\n",
            " 'has_superstructure_rc_non_engineered' 'has_superstructure_stone_flag'\n",
            " 'has_secondary_use_hotel' 'has_superstructure_cement_mortar_stone'\n",
            " 'has_superstructure_rc_engineered' 'has_superstructure_other'\n",
            " 'has_secondary_use_rental' 'has_secondary_use_other'\n",
            " 'has_secondary_use_industry' 'has_secondary_use_institution'\n",
            " 'has_secondary_use_school' 'has_secondary_use_health_post'\n",
            " 'has_secondary_use_gov_office' 'has_secondary_use_use_police'\n",
            " 'land_surface_condition' 'legal_ownership_status' 'position'\n",
            " 'other_floor_type' 'plan_configuration' 'foundation_type'\n",
            " 'geo_level_2_id' 'roof_type' 'geo_level_1_id' 'ground_floor_type'\n",
            " 'geo_level_3_id' 'count_floors_pre_eq' 'age' 'area_percentage'\n",
            " 'height_percentage' 'count_families']\n"
          ],
          "name": "stdout"
        }
      ]
    },
    {
      "cell_type": "code",
      "metadata": {
        "id": "zPjlmtbmQgyb",
        "colab_type": "code",
        "colab": {}
      },
      "source": [
        ""
      ],
      "execution_count": 0,
      "outputs": []
    },
    {
      "cell_type": "code",
      "metadata": {
        "id": "A0yDWkY9VXzh",
        "colab_type": "code",
        "colab": {
          "base_uri": "https://localhost:8080/",
          "height": 34
        },
        "outputId": "29f20a83-65a5-4329-aa05-97c3bbcca969"
      },
      "source": [
        "sc = StandardScaler()\n",
        "for feature in numerical_features:\n",
        "  df[feature] = sc.fit_transform(df[feature].values.reshape(-1,1))\n",
        "df['age'] = pd.cut(df['age'],10)\n",
        "le['age'] = LabelEncoder()\n",
        "df['age'] = le['age'].fit_transform(df['age'])\n",
        "print(\"Passed out scaling\")\n",
        "X = df[selected_features]\n",
        "X = pd.get_dummies(X, columns = best_labeled_features)\n",
        "y = df['damage_grade']\n",
        "numerical_features = np.array(numerical_features)\n",
        "X_std = sc.fit_transform(X)\n",
        "lr = LogisticRegressionCV(penalty='l2', Cs=10, solver='lbfgs', multi_class= 'multinomial')\n",
        "model = RandomForestClassifier(random_state = 0, n_estimators = 200)\n",
        "adaboost = AdaBoostClassifier(base_estimator = model, random_state = 0, n_estimators = 3)\n",
        "xgboost = XGBClassifier(n_estimators = 500, objective = 'multi:softmax', subsample=0.8, colsample_bytree=0.8, max_depth = 6, scale_pos_weight = 1)\n",
        "X_train, X_test, y_train, y_test = train_test_split(X_std, y, test_size = 0.2, stratify = y, random_state = 42)"
      ],
      "execution_count": 69,
      "outputs": [
        {
          "output_type": "stream",
          "text": [
            "Passed out scaling\n"
          ],
          "name": "stdout"
        }
      ]
    },
    {
      "cell_type": "code",
      "metadata": {
        "id": "3FmurtaFchom",
        "colab_type": "code",
        "colab": {
          "base_uri": "https://localhost:8080/",
          "height": 141
        },
        "outputId": "6253878b-2dfb-4cee-f942-bad5d17b45f8"
      },
      "source": [
        "xgboost.fit(X_train, y_train)\n"
      ],
      "execution_count": 70,
      "outputs": [
        {
          "output_type": "execute_result",
          "data": {
            "text/plain": [
              "XGBClassifier(base_score=0.5, booster='gbtree', colsample_bylevel=1,\n",
              "              colsample_bynode=1, colsample_bytree=0.8, gamma=0,\n",
              "              learning_rate=0.1, max_delta_step=0, max_depth=6,\n",
              "              min_child_weight=1, missing=None, n_estimators=500, n_jobs=1,\n",
              "              nthread=None, objective='multi:softprob', random_state=0,\n",
              "              reg_alpha=0, reg_lambda=1, scale_pos_weight=1, seed=None,\n",
              "              silent=None, subsample=0.8, verbosity=1)"
            ]
          },
          "metadata": {
            "tags": []
          },
          "execution_count": 70
        }
      ]
    },
    {
      "cell_type": "code",
      "metadata": {
        "id": "ggsahPM_cmEr",
        "colab_type": "code",
        "colab": {
          "base_uri": "https://localhost:8080/",
          "height": 34
        },
        "outputId": "8d0a118d-47e2-4ccd-c9bd-936d35475517"
      },
      "source": [
        "\n",
        "preds = xgboost.predict(X_test)\n",
        "preds\n",
        "f1_ = f1_score(y_test, preds, average = 'micro')\n",
        "print(f1_)"
      ],
      "execution_count": 71,
      "outputs": [
        {
          "output_type": "stream",
          "text": [
            "0.7251587651810212\n"
          ],
          "name": "stdout"
        }
      ]
    },
    {
      "cell_type": "code",
      "metadata": {
        "id": "dhgVO1sqy2So",
        "colab_type": "code",
        "colab": {}
      },
      "source": [
        "xgboost.save_model('0001.model')"
      ],
      "execution_count": 0,
      "outputs": []
    },
    {
      "cell_type": "code",
      "metadata": {
        "id": "bur87xz1zIpM",
        "colab_type": "code",
        "colab": {
          "base_uri": "https://localhost:8080/",
          "height": 167
        },
        "outputId": "9879e7ed-396e-46a4-a074-6720381600d5"
      },
      "source": [
        "xgboost.dump_model('dump.raw.txt')"
      ],
      "execution_count": 73,
      "outputs": [
        {
          "output_type": "error",
          "ename": "AttributeError",
          "evalue": "ignored",
          "traceback": [
            "\u001b[0;31m---------------------------------------------------------------------------\u001b[0m",
            "\u001b[0;31mAttributeError\u001b[0m                            Traceback (most recent call last)",
            "\u001b[0;32m<ipython-input-73-a2212c4772e8>\u001b[0m in \u001b[0;36m<module>\u001b[0;34m()\u001b[0m\n\u001b[0;32m----> 1\u001b[0;31m \u001b[0mxgboost\u001b[0m\u001b[0;34m.\u001b[0m\u001b[0mdump_model\u001b[0m\u001b[0;34m(\u001b[0m\u001b[0;34m'dump.raw.txt'\u001b[0m\u001b[0;34m)\u001b[0m\u001b[0;34m\u001b[0m\u001b[0;34m\u001b[0m\u001b[0m\n\u001b[0m",
            "\u001b[0;31mAttributeError\u001b[0m: 'XGBClassifier' object has no attribute 'dump_model'"
          ]
        }
      ]
    }
  ]
}